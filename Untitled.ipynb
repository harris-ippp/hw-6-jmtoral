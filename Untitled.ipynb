{
 "cells": [
  {
   "cell_type": "code",
   "execution_count": 16,
   "metadata": {
    "collapsed": true
   },
   "outputs": [],
   "source": [
    "import requests\n",
    "from bs4 import BeautifulSoup\n",
    "\n",
    "url = \"http://historical.elections.virginia.gov/elections/search/year_from:1924/year_to:2015/office_id:1/stage:General\" #\n",
    "req = requests.get(url)\n",
    "html = req.content\n",
    "soup = BeautifulSoup(html, 'html.parser')\n",
    "\n",
    "with open(\"ELECTION_ID\", \"w\") as out:\n",
    "    for result in soup.find_all(\"tr\", \"election_item\"):\n",
    "        year = result.find(\"td\", \"year first\").contents[0]\n",
    "        id_number = result[\"id\"].split(\"-\")[2]\n",
    "        out.write(\"{} {}\\n\".format(year, id_number))\n"
   ]
  },
  {
   "cell_type": "code",
   "execution_count": 26,
   "metadata": {
    "collapsed": false
   },
   "outputs": [],
   "source": [
    "import requests\n",
    "from bs4 import BeautifulSoup\n",
    "\n",
    "for line in open(\"ELECTION_ID\"):\n",
    "    year = line[:4]\n",
    "    code = line.split()[-1]\n",
    "\n",
    "    data = \"http://historical.elections.virginia.gov/elections/download/{}/precincts_include:0/\".format(code)\n",
    "    resp = requests.get(data)\n",
    "    soup = BeautifulSoup(resp.text,\"html.parser\")\n",
    "\n",
    "\n",
    "    file_name = year+\".csv\"\n",
    "    with open(file_name,\"w\") as out:\n",
    "        out.write(resp.text)\n"
   ]
  },
  {
   "cell_type": "code",
   "execution_count": 46,
   "metadata": {
    "collapsed": false
   },
   "outputs": [],
   "source": [
    "from bs4 import BeautifulSoup\n",
    "import sys\n",
    "import requests\n",
    "import pandas as pd\n",
    "\n",
    "df_list = []\n",
    "for x in range(1924,2013,4):\n",
    "    x = str(x)\n",
    "    file_name=x+\".csv\"\n",
    "    header = pd.read_csv(file_name, nrows=1).dropna(axis=1)\n",
    "    d = header.iloc[0].to_dict()\n",
    "\n",
    "    df = pd.read_csv(file_name, index_col=0,thousands=\",\", skiprows=[1])\n",
    "\n",
    "    df.rename(inplace = True, columns = d)\n",
    "    df.dropna(inplace = True, axis=1)\n",
    "\n",
    "    df[\"Year\"] = x\n",
    "\n",
    "    df_list.append(df[[\"Democratic\", \"Republican\", \"Total Votes Cast\", \"Year\"]])\n",
    "    res = pd.concat(df_list)\n",
    "\n",
    "    res[\"Republican Vote Share\"] = res[\"Republican\"]/res[\"Total Votes Cast\"]\n",
    "\n",
    "g1 = res[res.index==\"Accomack County\"].plot(x=\"Year\", y=\"Republican Vote Share\")\n",
    "g1.get_figure().savefig('accomack.png')\n",
    "\n",
    "    "
   ]
  },
  {
   "cell_type": "code",
   "execution_count": null,
   "metadata": {
    "collapsed": true
   },
   "outputs": [],
   "source": []
  }
 ],
 "metadata": {
  "anaconda-cloud": {},
  "kernelspec": {
   "display_name": "Python [Root]",
   "language": "python",
   "name": "Python [Root]"
  },
  "language_info": {
   "codemirror_mode": {
    "name": "ipython",
    "version": 3
   },
   "file_extension": ".py",
   "mimetype": "text/x-python",
   "name": "python",
   "nbconvert_exporter": "python",
   "pygments_lexer": "ipython3",
   "version": "3.5.2"
  }
 },
 "nbformat": 4,
 "nbformat_minor": 0
}
